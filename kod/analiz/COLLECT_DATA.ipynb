{
 "cells": [
  {
   "cell_type": "code",
   "execution_count": 2,
   "metadata": {},
   "outputs": [],
   "source": [
    "import requests\n",
    "import sys\n",
    "import time\n",
    "import json\n",
    "from datetime import datetime, timedelta\n",
    "from typing import Dict, List, Tuple\n",
    "import pandas as pd\n",
    "import os, re\n",
    "from glob import glob"
   ]
  },
  {
   "cell_type": "code",
   "execution_count": null,
   "metadata": {},
   "outputs": [
    {
     "name": "stdout",
     "output_type": "stream",
     "text": [
      "status: 201\n",
      "body: TGT-14002163-WPJa869YuH5TwKRA1VSXo6JbSzeiD72fX-nRP3tku9-YqS6GzgM9juYpe--eZWFt-D0-cas-7dc76c888-d9cdw\n"
     ]
    }
   ],
   "source": [
    "url = \"https://giris.epias.com.tr/cas/v1/tickets\"\n",
    "headers = {\"Accept\": \"text/plain\", \"Content-Type\": \"application/x-www-form-urlencoded\"}\n",
    "\n",
    "username = \"\" # user's mail\n",
    "password = \"\" # user's password\n",
    "\n",
    "r = requests.post(url, data={\"username\": username, \"password\": password}, headers=headers)\n",
    "print(\"status:\", r.status_code)\n",
    "print(\"body:\", r.text)"
   ]
  },
  {
   "cell_type": "code",
   "execution_count": 5,
   "metadata": {},
   "outputs": [
    {
     "name": "stdout",
     "output_type": "stream",
     "text": [
      "200\n",
      "{'items': [{'date': '2024-01-01T00:00:00+03:00', 'hour': '00:00', 'price': 1299.98, 'priceUsd': 44.16, 'priceEur': 39.91}, {'date': '2024-01-01T01:00:00+03:00', 'hour': '01:00', 'price': 1299.98, 'priceUsd': 44.16, 'priceEur': 39.91}, {'date': '2024-01-01T02:00:00+03:00', 'hour': '02:00', 'price': 1248.54, 'priceUsd': 42.41, 'priceEur': 38.33}, {'date': '2024-01-01T03:00:00+03:00', 'hour': '03:00', 'price': 1299.98, 'priceUsd': 44.16, 'priceEur': 39.91}, {'date': '2024-01-01T04:00:00+03:00', 'hour': '04:00', 'price': 1200, 'priceUsd': 40.76, 'priceEur': 36.84}, {'date': '2024-01-01T05:00:00+03:00', 'hour': '05:00', 'price': 1200, 'priceUsd': 40.76, 'priceEur': 36.84}, {'date': '2024-01-01T06:00:00+03:00', 'hour': '06:00', 'price': 1248.54, 'priceUsd': 42.41, 'priceEur': 38.33}, {'date': '2024-01-01T07:00:00+03:00', 'hour': '07:00', 'price': 1299.99, 'priceUsd': 44.16, 'priceEur': 39.91}, {'date': '2024-01-01T08:00:00+03:00', 'hour': '08:00', 'price': 1299.99, 'priceUsd': 44.16, 'priceEur': 39.91}, {'date': '2024-01-01T09:00:00+03:00', 'hour': '09:00', 'price': 1399.98, 'priceUsd': 47.56, 'priceEur': 42.98}, {'date': '2024-01-01T10:00:00+03:00', 'hour': '10:00', 'price': 1299.99, 'priceUsd': 44.16, 'priceEur': 39.91}, {'date': '2024-01-01T11:00:00+03:00', 'hour': '11:00', 'price': 1200, 'priceUsd': 40.76, 'priceEur': 36.84}, {'date': '2024-01-01T12:00:00+03:00', 'hour': '12:00', 'price': 1000, 'priceUsd': 33.97, 'priceEur': 30.7}, {'date': '2024-01-01T13:00:00+03:00', 'hour': '13:00', 'price': 1199.99, 'priceUsd': 40.76, 'priceEur': 36.84}, {'date': '2024-01-01T14:00:00+03:00', 'hour': '14:00', 'price': 1299.98, 'priceUsd': 44.16, 'priceEur': 39.91}, {'date': '2024-01-01T15:00:00+03:00', 'hour': '15:00', 'price': 1299.98, 'priceUsd': 44.16, 'priceEur': 39.91}, {'date': '2024-01-01T16:00:00+03:00', 'hour': '16:00', 'price': 1915.15, 'priceUsd': 65.06, 'priceEur': 58.79}, {'date': '2024-01-01T17:00:00+03:00', 'hour': '17:00', 'price': 2525, 'priceUsd': 85.77, 'priceEur': 77.52}, {'date': '2024-01-01T18:00:00+03:00', 'hour': '18:00', 'price': 2601.44, 'priceUsd': 88.37, 'priceEur': 79.86}, {'date': '2024-01-01T19:00:00+03:00', 'hour': '19:00', 'price': 2200.01, 'priceUsd': 74.73, 'priceEur': 67.54}, {'date': '2024-01-01T20:00:00+03:00', 'hour': '20:00', 'price': 1999.99, 'priceUsd': 67.94, 'priceEur': 61.4}, {'date': '2024-01-01T21:00:00+03:00', 'hour': '21:00', 'price': 1615, 'priceUsd': 54.86, 'priceEur': 49.58}, {'date': '2024-01-01T22:00:00+03:00', 'hour': '22:00', 'price': 1299.98, 'priceUsd': 44.16, 'priceEur': 39.91}, {'date': '2024-01-01T23:00:00+03:00', 'hour': '23:00', 'price': 913.64, 'priceUsd': 31.04, 'priceEur': 28.05}, {'date': '2024-01-02T00:00:00+03:00', 'hour': '00:00', 'price': 1299.99, 'priceUsd': 44.16, 'priceEur': 39.91}, {'date': '2024-01-02T01:00:00+03:00', 'hour': '01:00', 'price': 1299.99, 'priceUsd': 44.16, 'priceEur': 39.91}, {'date': '2024-01-02T02:00:00+03:00', 'hour': '02:00', 'price': 1285.81, 'priceUsd': 43.68, 'priceEur': 39.47}, {'date': '2024-01-02T03:00:00+03:00', 'hour': '03:00', 'price': 1299.98, 'priceUsd': 44.16, 'priceEur': 39.91}, {'date': '2024-01-02T04:00:00+03:00', 'hour': '04:00', 'price': 1285.82, 'priceUsd': 43.68, 'priceEur': 39.47}, {'date': '2024-01-02T05:00:00+03:00', 'hour': '05:00', 'price': 1285.82, 'priceUsd': 43.68, 'priceEur': 39.47}, {'date': '2024-01-02T06:00:00+03:00', 'hour': '06:00', 'price': 1285.81, 'priceUsd': 43.68, 'priceEur': 39.47}, {'date': '2024-01-02T07:00:00+03:00', 'hour': '07:00', 'price': 1799.99, 'priceUsd': 61.14, 'priceEur': 55.26}, {'date': '2024-01-02T08:00:00+03:00', 'hour': '08:00', 'price': 2649, 'priceUsd': 89.99, 'priceEur': 81.32}, {'date': '2024-01-02T09:00:00+03:00', 'hour': '09:00', 'price': 2700, 'priceUsd': 91.72, 'priceEur': 82.89}, {'date': '2024-01-02T10:00:00+03:00', 'hour': '10:00', 'price': 2398, 'priceUsd': 81.46, 'priceEur': 73.62}, {'date': '2024-01-02T11:00:00+03:00', 'hour': '11:00', 'price': 2399.98, 'priceUsd': 81.53, 'priceEur': 73.68}, {'date': '2024-01-02T12:00:00+03:00', 'hour': '12:00', 'price': 1974, 'priceUsd': 67.06, 'priceEur': 60.6}, {'date': '2024-01-02T13:00:00+03:00', 'hour': '13:00', 'price': 2049.99, 'priceUsd': 69.64, 'priceEur': 62.93}, {'date': '2024-01-02T14:00:00+03:00', 'hour': '14:00', 'price': 2248, 'priceUsd': 76.36, 'priceEur': 69.01}, {'date': '2024-01-02T15:00:00+03:00', 'hour': '15:00', 'price': 2300, 'priceUsd': 78.13, 'priceEur': 70.61}, {'date': '2024-01-02T16:00:00+03:00', 'hour': '16:00', 'price': 2525, 'priceUsd': 85.77, 'priceEur': 77.52}, {'date': '2024-01-02T17:00:00+03:00', 'hour': '17:00', 'price': 2700, 'priceUsd': 91.72, 'priceEur': 82.89}, {'date': '2024-01-02T18:00:00+03:00', 'hour': '18:00', 'price': 2700, 'priceUsd': 91.72, 'priceEur': 82.89}, {'date': '2024-01-02T19:00:00+03:00', 'hour': '19:00', 'price': 2500.01, 'priceUsd': 84.92, 'priceEur': 76.75}, {'date': '2024-01-02T20:00:00+03:00', 'hour': '20:00', 'price': 2482, 'priceUsd': 84.31, 'priceEur': 76.2}, {'date': '2024-01-02T21:00:00+03:00', 'hour': '21:00', 'price': 2481.99, 'priceUsd': 84.31, 'priceEur': 76.2}, {'date': '2024-01-02T22:00:00+03:00', 'hour': '22:00', 'price': 2298.01, 'priceUsd': 78.06, 'priceEur': 70.55}, {'date': '2024-01-02T23:00:00+03:00', 'hour': '23:00', 'price': 2198, 'priceUsd': 74.66, 'priceEur': 67.48}, {'date': '2024-01-03T00:00:00+03:00', 'hour': '00:00', 'price': 2325, 'priceUsd': 78.98, 'priceEur': 71.38}, {'date': '2024-01-03T01:00:00+03:00', 'hour': '01:00', 'price': 2248, 'priceUsd': 76.36, 'priceEur': 69.01}, {'date': '2024-01-03T02:00:00+03:00', 'hour': '02:00', 'price': 2188, 'priceUsd': 74.33, 'priceEur': 67.17}, {'date': '2024-01-03T03:00:00+03:00', 'hour': '03:00', 'price': 2188, 'priceUsd': 74.33, 'priceEur': 67.17}, {'date': '2024-01-03T04:00:00+03:00', 'hour': '04:00', 'price': 2098, 'priceUsd': 71.27, 'priceEur': 64.41}, {'date': '2024-01-03T05:00:00+03:00', 'hour': '05:00', 'price': 1449.98, 'priceUsd': 49.26, 'priceEur': 44.51}, {'date': '2024-01-03T06:00:00+03:00', 'hour': '06:00', 'price': 1349.99, 'priceUsd': 45.86, 'priceEur': 41.44}, {'date': '2024-01-03T07:00:00+03:00', 'hour': '07:00', 'price': 2110.66, 'priceUsd': 71.7, 'priceEur': 64.8}, {'date': '2024-01-03T08:00:00+03:00', 'hour': '08:00', 'price': 2649, 'priceUsd': 89.99, 'priceEur': 81.32}, {'date': '2024-01-03T09:00:00+03:00', 'hour': '09:00', 'price': 2690.02, 'priceUsd': 91.38, 'priceEur': 82.58}, {'date': '2024-01-03T10:00:00+03:00', 'hour': '10:00', 'price': 2379.99, 'priceUsd': 80.85, 'priceEur': 73.06}, {'date': '2024-01-03T11:00:00+03:00', 'hour': '11:00', 'price': 2288, 'priceUsd': 77.72, 'priceEur': 70.24}, {'date': '2024-01-03T12:00:00+03:00', 'hour': '12:00', 'price': 1349.99, 'priceUsd': 45.86, 'priceEur': 41.44}, {'date': '2024-01-03T13:00:00+03:00', 'hour': '13:00', 'price': 1449.99, 'priceUsd': 49.26, 'priceEur': 44.51}, {'date': '2024-01-03T14:00:00+03:00', 'hour': '14:00', 'price': 2146.78, 'priceUsd': 72.92, 'priceEur': 65.9}, {'date': '2024-01-03T15:00:00+03:00', 'hour': '15:00', 'price': 2288.01, 'priceUsd': 77.72, 'priceEur': 70.24}, {'date': '2024-01-03T16:00:00+03:00', 'hour': '16:00', 'price': 2380, 'priceUsd': 80.85, 'priceEur': 73.06}, {'date': '2024-01-03T17:00:00+03:00', 'hour': '17:00', 'price': 2600, 'priceUsd': 88.32, 'priceEur': 79.82}, {'date': '2024-01-03T18:00:00+03:00', 'hour': '18:00', 'price': 2594, 'priceUsd': 88.12, 'priceEur': 79.63}, {'date': '2024-01-03T19:00:00+03:00', 'hour': '19:00', 'price': 2299.98, 'priceUsd': 78.13, 'priceEur': 70.61}, {'date': '2024-01-03T20:00:00+03:00', 'hour': '20:00', 'price': 1968, 'priceUsd': 66.85, 'priceEur': 60.42}, {'date': '2024-01-03T21:00:00+03:00', 'hour': '21:00', 'price': 2288.01, 'priceUsd': 77.72, 'priceEur': 70.24}, {'date': '2024-01-03T22:00:00+03:00', 'hour': '22:00', 'price': 2185.01, 'priceUsd': 74.22, 'priceEur': 67.08}, {'date': '2024-01-03T23:00:00+03:00', 'hour': '23:00', 'price': 1998, 'priceUsd': 67.87, 'priceEur': 61.34}], 'page': None, 'statistic': {'priceAvg': 1890.65, 'priceUsdAvg': 64.22, 'priceEurAvg': 58.04, 'priceMax': 2700, 'priceUsdMax': 91.72, 'priceEurMax': 82.89, 'priceMin': 913.64, 'priceUsdMin': 31.04, 'priceEurMin': 28.05, 'priceTotal': 136126.73, 'priceUsdTotal': 4624.17, 'priceEurTotal': 4179.02, 'ptfWeightedAvg': 1964.68, 'ptfUsdWeightedAvg': 66.74, 'ptfEurWeightedAvg': 60.31}}\n"
     ]
    }
   ],
   "source": [
    "tgt = \"TGT-14002163-WPJa869YuH5TwKRA1VSXo6JbSzeiD72fX-nRP3tku9-YqS6GzgM9juYpe--eZWFt-D0-cas-7dc76c888-d9cdw\"\n",
    "\n",
    "url = \"https://seffaflik.epias.com.tr/electricity-service/v1/markets/dam/data/mcp\"\n",
    "headers = {\n",
    "    \"TGT\": tgt,\n",
    "    \"Accept-Language\": \"en\",\n",
    "    \"Accept\": \"application/json\",\n",
    "    \"Content-Type\": \"application/json\",\n",
    "}\n",
    "body = {\n",
    "    \"startDate\": \"2024-01-01T00:00:00+03:00\",\n",
    "    \"endDate\":   \"2024-01-03T00:00:00+03:00\",\n",
    "}\n",
    "\n",
    "r = requests.post(url, headers=headers, json=body)\n",
    "print(r.status_code)\n",
    "print(r.json() if r.headers.get(\"Content-Type\",\"\").startswith(\"application/json\") else r.text)"
   ]
  },
  {
   "cell_type": "code",
   "execution_count": 7,
   "metadata": {},
   "outputs": [
    {
     "name": "stdout",
     "output_type": "stream",
     "text": [
      "Toplam satır: 8784\n"
     ]
    },
    {
     "name": "stderr",
     "output_type": "stream",
     "text": [
      "/var/folders/1t/15hmc_h12xnbygjnmf7kj43h0000gn/T/ipykernel_3682/1356692021.py:38: UserWarning: Could not infer format, so each element will be parsed individually, falling back to `dateutil`. To ensure parsing is consistent and as-expected, please specify a format.\n",
      "  ts = pd.to_datetime(\n"
     ]
    }
   ],
   "source": [
    "PTF_URL = \"https://seffaflik.epias.com.tr/electricity-service/v1/markets/dam/data/mcp\"\n",
    "\n",
    "def month_start_end_strings(year: int, month: int):\n",
    "    start = datetime(year, month, 1)\n",
    "    if month == 12:\n",
    "        next_month = datetime(year + 1, 1, 1)\n",
    "    else:\n",
    "        next_month = datetime(year, month + 1, 1)\n",
    "    last_day = next_month - timedelta(days=1)\n",
    "    return (\n",
    "        start.strftime(\"%Y-%m-%dT00:00:00+03:00\"),\n",
    "        last_day.strftime(\"%Y-%m-%dT00:00:00+03:00\"),\n",
    "    )\n",
    "\n",
    "def epias_post(url: str, body: dict, tgt: str):\n",
    "    headers = {\n",
    "        \"TGT\": tgt,\n",
    "        \"Accept-Language\": \"en\",\n",
    "        \"Accept\": \"application/json\",\n",
    "        \"Content-Type\": \"application/json\",\n",
    "    }\n",
    "    r = requests.post(url, headers=headers, json=body, timeout=60)\n",
    "    r.raise_for_status()\n",
    "    return r.json()\n",
    "\n",
    "all_items = []\n",
    "for m in range(1, 13):\n",
    "    start_str, end_str = month_start_end_strings(2024, m)\n",
    "    body = {\"startDate\": start_str, \"endDate\": end_str}\n",
    "    data = epias_post(PTF_URL, body, tgt)  # tgt değişkeni hücrende tanımlı olmalı\n",
    "    items = data.get(\"items\", [])\n",
    "    all_items.extend(items)\n",
    "\n",
    "ptf_2024_df = pd.DataFrame(all_items)\n",
    "\n",
    "# Kronolojik sıraya al\n",
    "if not ptf_2024_df.empty:\n",
    "    ts = pd.to_datetime(\n",
    "        ptf_2024_df[\"date\"].astype(str).str.replace(\"+03:00\", \"\", regex=False) + \" \" + ptf_2024_df[\"hour\"].astype(str),\n",
    "        errors=\"coerce\"\n",
    "    )\n",
    "    ptf_2024_df = ptf_2024_df.assign(_ts=ts).sort_values(\"_ts\").drop(columns=[\"_ts\"])\n",
    "\n",
    "print(\"Toplam satır:\", len(ptf_2024_df))"
   ]
  },
  {
   "cell_type": "code",
   "execution_count": 11,
   "metadata": {},
   "outputs": [
    {
     "name": "stderr",
     "output_type": "stream",
     "text": [
      "/var/folders/1t/15hmc_h12xnbygjnmf7kj43h0000gn/T/ipykernel_3682/1765372984.py:32: UserWarning: Could not infer format, so each element will be parsed individually, falling back to `dateutil`. To ensure parsing is consistent and as-expected, please specify a format.\n",
      "  ts = pd.to_datetime(\n"
     ]
    },
    {
     "name": "stdout",
     "output_type": "stream",
     "text": [
      "SMF satır: 8784\n"
     ]
    }
   ],
   "source": [
    "SMF_URL = \"https://seffaflik.epias.com.tr/electricity-service/v1/markets/bpm/data/system-marginal-price\"\n",
    "\n",
    "def month_start_end_strings(year: int, month: int):\n",
    "    start = datetime(year, month, 1)\n",
    "    next_month = datetime(year + (month==12), 1 if month==12 else month+1, 1)\n",
    "    last_day = next_month - timedelta(days=1)\n",
    "    return (\n",
    "        start.strftime(\"%Y-%m-%dT00:00:00+03:00\"),\n",
    "        last_day.strftime(\"%Y-%m-%dT00:00:00+03:00\"),\n",
    "    )\n",
    "\n",
    "def epias_post(url: str, body: dict, tgt: str):\n",
    "    headers = {\n",
    "        \"TGT\": tgt,\n",
    "        \"Accept-Language\": \"en\",\n",
    "        \"Accept\": \"application/json\",\n",
    "        \"Content-Type\": \"application/json\",\n",
    "    }\n",
    "    r = requests.post(url, headers=headers, json=body, timeout=60)\n",
    "    r.raise_for_status()\n",
    "    return r.json()\n",
    "\n",
    "smf_items = []\n",
    "for m in range(1, 13):\n",
    "    s, e = month_start_end_strings(2024, m)\n",
    "    data = epias_post(SMF_URL, {\"startDate\": s, \"endDate\": e}, tgt)\n",
    "    smf_items.extend(data.get(\"items\", []))\n",
    "\n",
    "smf_2024_df = pd.DataFrame(smf_items)\n",
    "\n",
    "if not smf_2024_df.empty:\n",
    "    ts = pd.to_datetime(\n",
    "        smf_2024_df[\"date\"].astype(str).str.replace(\"+03:00\", \"\", regex=False) + \" \" + smf_2024_df[\"hour\"].astype(str),\n",
    "        errors=\"coerce\"\n",
    "    )\n",
    "    smf_2024_df = smf_2024_df.assign(_ts=ts).sort_values(\"_ts\").drop(columns=[\"_ts\"])\n",
    "\n",
    "print(\"SMF satır:\", len(smf_2024_df))"
   ]
  },
  {
   "cell_type": "code",
   "execution_count": 15,
   "metadata": {},
   "outputs": [
    {
     "name": "stdout",
     "output_type": "stream",
     "text": [
      "1 {'powerPlantName': 'MASLAKTEPE RES', 'organizationId': 12717, 'powerPlantId': 2468, 'uevcbId': 3207214}\n",
      "2 {'powerPlantName': 'EBER RES', 'organizationId': 12517, 'powerPlantId': 2316, 'uevcbId': 3217197}\n",
      "3 {'powerPlantName': 'YANBOLU HES', 'organizationId': 8801, 'powerPlantId': 1884, 'uevcbId': 2813560}\n",
      "4 {'powerPlantName': 'MELİKOM HES', 'organizationId': 9709, 'powerPlantId': 2142, 'uevcbId': 3196990}\n"
     ]
    }
   ],
   "source": [
    "pp_path = \"/Users/ibrahimyucel/Downloads/Gain Enerji Intern Analyst Case Study_2025/GAIN ENERGY/pp_list.json\"\n",
    "\n",
    "with open(pp_path, \"r\", encoding=\"utf-8\") as f:\n",
    "    raw_pp = json.load(f)\n",
    "\n",
    "def normalize_pp(pp: dict):\n",
    "    return {\n",
    "        \"powerPlantName\": pp.get(\"powerPlantName\") or pp.get(\"powerplantName\"),\n",
    "        \"organizationId\": pp.get(\"organizationId\"),\n",
    "        \"powerPlantId\": pp.get(\"powerPlantId\") or pp.get(\"powerplantId\"),\n",
    "        \"uevcbId\": pp.get(\"uevcbId\"),\n",
    "    }\n",
    "\n",
    "pp_list = [normalize_pp(pp) for pp in raw_pp]\n",
    "\n",
    "for i, pp in enumerate(pp_list, 1):\n",
    "    print(i, pp)"
   ]
  },
  {
   "cell_type": "code",
   "execution_count": 25,
   "metadata": {},
   "outputs": [
    {
     "name": "stdout",
     "output_type": "stream",
     "text": [
      "MASLAKTEPE RES satır: 8784\n",
      "EBER RES satır: 8784\n",
      "YANBOLU HES satır: 8784\n",
      "MELİKOM HES satır: 8784\n"
     ]
    }
   ],
   "source": [
    "KGUP_URL = \"https://seffaflik.epias.com.tr/electricity-service/v1/generation/data/dpp-first-version\"\n",
    "REGION = \"TR1\"\n",
    "\n",
    "selected_idx = [1, 2, 3, 4]\n",
    "selected_pp = [pp_list[i-1] for i in selected_idx]\n",
    "\n",
    "def fetch_kgup_for_pp(pp: dict, year: int = 2024, delay: float = 0.2) -> pd.DataFrame:\n",
    "    rows = []\n",
    "    for m in range(1, 13):\n",
    "        s, e = month_start_end_strings(year, m)\n",
    "        body = {\n",
    "            \"startDate\": s,\n",
    "            \"endDate\": e,\n",
    "            \"organizationId\": pp[\"organizationId\"],\n",
    "            \"uevcbId\": pp[\"uevcbId\"],\n",
    "            \"region\": REGION,\n",
    "        }\n",
    "        data = epias_post(KGUP_URL, body, tgt)\n",
    "        for it in data.get(\"items\", []):\n",
    "            rows.append({\n",
    "                \"date\": it.get(\"date\"),          # tam ISO datetime (2024-06-03T19:00:00+03:00)\n",
    "                \"hour\": it.get(\"time\"),          # API’den dönen 'time' alanını hour’a yaz\n",
    "                \"KGUP\": it.get(\"toplam\"),\n",
    "                \"powerPlantName\": pp[\"powerPlantName\"],\n",
    "                \"organizationId\": pp[\"organizationId\"],\n",
    "                \"uevcbId\": pp[\"uevcbId\"],\n",
    "                \"powerPlantId\": pp[\"powerPlantId\"],\n",
    "            })\n",
    "        time.sleep(delay)\n",
    "\n",
    "    df = pd.DataFrame(rows)\n",
    "    if not df.empty:\n",
    "        # 'date' kolonundan sadece gün kısmını al\n",
    "        date_day = df[\"date\"].astype(str).str.split(\"T\").str[0]\n",
    "        # 'hour' kolonuyla birleştirip datetime üret\n",
    "        ts = pd.to_datetime(date_day + \" \" + df[\"hour\"].astype(str), errors=\"coerce\")\n",
    "        df = (\n",
    "            df.assign(_ts=ts)\n",
    "              .sort_values([\"powerPlantName\", \"_ts\"])\n",
    "              .drop(columns=[\"_ts\"])\n",
    "              .reset_index(drop=True)\n",
    "        )\n",
    "    return df\n",
    "\n",
    "# Her santral için ayrı DF: iki sözlük (isimle ve uevcbId ile erişim)\n",
    "kgup_by_name = {}\n",
    "kgup_by_uevcb = {}\n",
    "\n",
    "for pp in selected_pp:\n",
    "    df_pp = fetch_kgup_for_pp(pp)\n",
    "    kgup_by_name[pp[\"powerPlantName\"]] = df_pp\n",
    "    kgup_by_uevcb[pp[\"uevcbId\"]] = df_pp\n",
    "    print(pp[\"powerPlantName\"], \"satır:\", len(df_pp))\n",
    "\n",
    "# Örnek erişim:\n",
    "# kgup_by_name[\"MASLAKTEPE RES\"].head()\n",
    "# kgup_by_uevcb[3207214].head()"
   ]
  },
  {
   "cell_type": "code",
   "execution_count": 27,
   "metadata": {},
   "outputs": [
    {
     "name": "stderr",
     "output_type": "stream",
     "text": [
      "/var/folders/1t/15hmc_h12xnbygjnmf7kj43h0000gn/T/ipykernel_3682/2185093498.py:45: UserWarning: Could not infer format, so each element will be parsed individually, falling back to `dateutil`. To ensure parsing is consistent and as-expected, please specify a format.\n",
      "  ts = pd.to_datetime(date_day + \" \" + df[\"hour\"].astype(str), errors=\"coerce\")\n"
     ]
    },
    {
     "name": "stdout",
     "output_type": "stream",
     "text": [
      "MASLAKTEPE RES satır: 8784\n"
     ]
    },
    {
     "name": "stderr",
     "output_type": "stream",
     "text": [
      "/var/folders/1t/15hmc_h12xnbygjnmf7kj43h0000gn/T/ipykernel_3682/2185093498.py:45: UserWarning: Could not infer format, so each element will be parsed individually, falling back to `dateutil`. To ensure parsing is consistent and as-expected, please specify a format.\n",
      "  ts = pd.to_datetime(date_day + \" \" + df[\"hour\"].astype(str), errors=\"coerce\")\n"
     ]
    },
    {
     "name": "stdout",
     "output_type": "stream",
     "text": [
      "EBER RES satır: 8784\n"
     ]
    },
    {
     "name": "stderr",
     "output_type": "stream",
     "text": [
      "/var/folders/1t/15hmc_h12xnbygjnmf7kj43h0000gn/T/ipykernel_3682/2185093498.py:45: UserWarning: Could not infer format, so each element will be parsed individually, falling back to `dateutil`. To ensure parsing is consistent and as-expected, please specify a format.\n",
      "  ts = pd.to_datetime(date_day + \" \" + df[\"hour\"].astype(str), errors=\"coerce\")\n"
     ]
    },
    {
     "name": "stdout",
     "output_type": "stream",
     "text": [
      "YANBOLU HES satır: 8784\n",
      "MELİKOM HES satır: 8775\n"
     ]
    },
    {
     "name": "stderr",
     "output_type": "stream",
     "text": [
      "/var/folders/1t/15hmc_h12xnbygjnmf7kj43h0000gn/T/ipykernel_3682/2185093498.py:45: UserWarning: Could not infer format, so each element will be parsed individually, falling back to `dateutil`. To ensure parsing is consistent and as-expected, please specify a format.\n",
      "  ts = pd.to_datetime(date_day + \" \" + df[\"hour\"].astype(str), errors=\"coerce\")\n"
     ]
    }
   ],
   "source": [
    "URETIM_URL = \"https://seffaflik.epias.com.tr/electricity-service/v1/generation/data/realtime-generation\"\n",
    "\n",
    "# Seçeceğin santrallerin indekslerini düzenle (ör: [1, 3])\n",
    "selected_idx = [1, 2, 3, 4]\n",
    "selected_pp = [pp_list[i-1] for i in selected_idx]\n",
    "\n",
    "def fetch_generation_for_pp(pp: dict, year: int = 2024, delay: float = 0.2) -> pd.DataFrame:\n",
    "    rows = []\n",
    "    for m in range(1, 13):\n",
    "        s, e = month_start_end_strings(year, m)  # mevcut fonksiyonunu kullanıyor\n",
    "        body = {\n",
    "            \"startDate\": s,\n",
    "            \"endDate\": e,\n",
    "            \"powerPlantId\": pp[\"powerPlantId\"],\n",
    "        }\n",
    "        data = epias_post(URETIM_URL, body, tgt)  # mevcut fonksiyonunu ve tgt'yi kullanıyor\n",
    "        for it in data.get(\"items\", []):\n",
    "            rows.append({\n",
    "                \"date\": it.get(\"date\"),\n",
    "                \"hour\": it.get(\"time\"),       # API 'time' döner; birleşik isim için 'hour'a yaz\n",
    "                \"URETIM\": it.get(\"total\"),    # gerçekleşen üretim (MWh)\n",
    "                \"powerPlantName\": pp[\"powerPlantName\"],\n",
    "                \"organizationId\": pp[\"organizationId\"],\n",
    "                \"uevcbId\": pp[\"uevcbId\"],\n",
    "                \"powerPlantId\": pp[\"powerPlantId\"],\n",
    "            })\n",
    "        time.sleep(delay)\n",
    "    df = pd.DataFrame(rows)\n",
    "    if not df.empty:\n",
    "        date_day = df[\"date\"].astype(str).str.split(\"T\").str[0]\n",
    "        ts = pd.to_datetime(date_day + \" \" + df[\"hour\"].astype(str), errors=\"coerce\")\n",
    "        df = df.assign(_ts=ts).sort_values(\"_ts\").drop(columns=[\"_ts\"]).reset_index(drop=True)\n",
    "    return df\n",
    "\n",
    "# Her santral için ayrı DF sözlükleri\n",
    "uretim_by_name = {}\n",
    "uretim_by_ppid = {}\n",
    "\n",
    "for pp in selected_pp:\n",
    "    df_pp = fetch_generation_for_pp(pp)\n",
    "    uretim_by_name[pp[\"powerPlantName\"]] = df_pp\n",
    "    uretim_by_ppid[pp[\"powerPlantId\"]] = df_pp\n",
    "    print(pp[\"powerPlantName\"], \"satır:\", len(df_pp))\n",
    "\n",
    "# Örnek erişim:\n",
    "# uretim_by_name[\"MELİKOM HES\"].head()\n",
    "# uretim_by_ppid[2142].head()"
   ]
  },
  {
   "cell_type": "code",
   "execution_count": 29,
   "metadata": {},
   "outputs": [
    {
     "name": "stdout",
     "output_type": "stream",
     "text": [
      "KGÜP | MASLAKTEPE RES: hour null sayısı -> 0\n",
      "KGÜP | EBER RES: hour null sayısı -> 0\n",
      "KGÜP | YANBOLU HES: hour null sayısı -> 0\n",
      "KGÜP | MELİKOM HES: hour null sayısı -> 0\n",
      "ÜRETİM | MASLAKTEPE RES: hour null sayısı -> 0\n",
      "ÜRETİM | EBER RES: hour null sayısı -> 0\n",
      "ÜRETİM | YANBOLU HES: hour null sayısı -> 0\n",
      "ÜRETİM | MELİKOM HES: hour null sayısı -> 0\n"
     ]
    }
   ],
   "source": [
    "def ensure_hour_and_sort(df: pd.DataFrame) -> pd.DataFrame:\n",
    "    # hour yoksa veya None/boş ise date'ten \"HH:MM\" türet\n",
    "    hour_src = None\n",
    "    if \"hour\" in df.columns:\n",
    "        hour_src = df[\"hour\"].astype(str)\n",
    "    elif \"time\" in df.columns:\n",
    "        hour_src = df[\"time\"].astype(str)\n",
    "    else:\n",
    "        hour_src = pd.Series([None] * len(df))\n",
    "\n",
    "    derived = df[\"date\"].astype(str).str.split(\"T\").str[1].str[:5]  # \"HH:MM\"\n",
    "    df = df.copy()\n",
    "    df[\"hour\"] = hour_src\n",
    "    mask = df[\"hour\"].isna() | (df[\"hour\"] == \"None\") | (df[\"hour\"].str.strip() == \"\") | (df[\"hour\"] == \"NaN\")\n",
    "    df.loc[mask, \"hour\"] = derived[mask]\n",
    "\n",
    "    # kronolojik sıraya al\n",
    "    date_day = df[\"date\"].astype(str).str.split(\"T\").str[0]\n",
    "    ts = pd.to_datetime(date_day + \" \" + df[\"hour\"].astype(str), errors=\"coerce\")\n",
    "    df = df.assign(_ts=ts).sort_values(\"_ts\").drop(columns=[\"_ts\"]).reset_index(drop=True)\n",
    "    return df\n",
    "\n",
    "# KGÜP için (sözlük: isim -> DF)\n",
    "if 'kgup_by_name' in globals():\n",
    "    for name, d in kgup_by_name.items():\n",
    "        kgup_by_name[name] = ensure_hour_and_sort(d)\n",
    "        print(f\"KGÜP | {name}: hour null sayısı -> {kgup_by_name[name]['hour'].isna().sum()}\")\n",
    "\n",
    "# Üretim için (sözlük: isim -> DF)\n",
    "if 'uretim_by_name' in globals():\n",
    "    for name, d in uretim_by_name.items():\n",
    "        uretim_by_name[name] = ensure_hour_and_sort(d)\n",
    "        print(f\"ÜRETİM | {name}: hour null sayısı -> {uretim_by_name[name]['hour'].isna().sum()}\")\n",
    "\n",
    "# Tek bir DF varsa örnek:\n",
    "# kgup_2024_df = ensure_hour_and_sort(kgup_2024_df)\n",
    "# uretim_2024_df = ensure_hour_and_sort(uretim_2024_df)"
   ]
  },
  {
   "cell_type": "code",
   "execution_count": 32,
   "metadata": {},
   "outputs": [
    {
     "name": "stdout",
     "output_type": "stream",
     "text": [
      "Saved 8784 rows -> /Users/ibrahimyucel/Downloads/Gain Enerji Intern Analyst Case Study_2025/data/ptf_2024.csv\n",
      "Saved 8784 rows -> /Users/ibrahimyucel/Downloads/Gain Enerji Intern Analyst Case Study_2025/data/smf_2024.csv\n",
      "Saved 8784 rows -> /Users/ibrahimyucel/Downloads/Gain Enerji Intern Analyst Case Study_2025/data/kgup_2024_3207214_MASLAKTEPE_RES.csv\n",
      "Saved 8784 rows -> /Users/ibrahimyucel/Downloads/Gain Enerji Intern Analyst Case Study_2025/data/kgup_2024_3217197_EBER_RES.csv\n",
      "Saved 8784 rows -> /Users/ibrahimyucel/Downloads/Gain Enerji Intern Analyst Case Study_2025/data/kgup_2024_2813560_YANBOLU_HES.csv\n",
      "Saved 8784 rows -> /Users/ibrahimyucel/Downloads/Gain Enerji Intern Analyst Case Study_2025/data/kgup_2024_3196990_MELKOM_HES.csv\n",
      "Saved 8784 rows -> /Users/ibrahimyucel/Downloads/Gain Enerji Intern Analyst Case Study_2025/data/uretim_2024_2468_MASLAKTEPE_RES.csv\n",
      "Saved 8784 rows -> /Users/ibrahimyucel/Downloads/Gain Enerji Intern Analyst Case Study_2025/data/uretim_2024_2316_EBER_RES.csv\n",
      "Saved 8784 rows -> /Users/ibrahimyucel/Downloads/Gain Enerji Intern Analyst Case Study_2025/data/uretim_2024_1884_YANBOLU_HES.csv\n",
      "Saved 8775 rows -> /Users/ibrahimyucel/Downloads/Gain Enerji Intern Analyst Case Study_2025/data/uretim_2024_2142_MELKOM_HES.csv\n"
     ]
    }
   ],
   "source": [
    "BASE_DIR = \"/Users/ibrahimyucel/Downloads/Gain Enerji Intern Analyst Case Study_2025/data\"\n",
    "os.makedirs(BASE_DIR, exist_ok=True)\n",
    "\n",
    "def slugify(name):\n",
    "    s = str(name).strip().replace(\" \", \"_\")\n",
    "    return re.sub(r\"[^A-Za-z0-9_\\-]\", \"\", s)\n",
    "\n",
    "def save_df(df: pd.DataFrame, path: str, label: str):\n",
    "    if not isinstance(df, pd.DataFrame) or df.empty:\n",
    "        print(f\"Skip (empty): {label}\")\n",
    "        return\n",
    "    df.to_csv(path, index=False)\n",
    "    print(f\"Saved {len(df)} rows -> {path}\")\n",
    "\n",
    "# PTF / SMF (tek set)\n",
    "if 'ptf_2024_df' in globals(): save_df(ptf_2024_df, f\"{BASE_DIR}/ptf_2024.csv\", \"PTF\")\n",
    "if 'smf_2024_df' in globals(): save_df(smf_2024_df, f\"{BASE_DIR}/smf_2024.csv\", \"SMF\")\n",
    "\n",
    "# KGÜP (santral bazlı)\n",
    "if 'kgup_by_name' in globals() and isinstance(kgup_by_name, dict):\n",
    "    for name, df in kgup_by_name.items():\n",
    "        uev = df['uevcbId'].iloc[0] if 'uevcbId' in df.columns and not df.empty else \"unknown\"\n",
    "        fn = f\"kgup_2024_{uev}_{slugify(name)}.csv\"\n",
    "        save_df(df, f\"{BASE_DIR}/{fn}\", f\"KGUP/{name}\")\n",
    "\n",
    "# Üretim (santral bazlı)\n",
    "if 'uretim_by_name' in globals() and isinstance(uretim_by_name, dict):\n",
    "    for name, df in uretim_by_name.items():\n",
    "        ppid = df['powerPlantId'].iloc[0] if 'powerPlantId' in df.columns and not df.empty else \"unknown\"\n",
    "        fn = f\"uretim_2024_{ppid}_{slugify(name)}.csv\"\n",
    "        save_df(df, f\"{BASE_DIR}/{fn}\", f\"URETIM/{name}\")"
   ]
  },
  {
   "cell_type": "code",
   "execution_count": 7,
   "metadata": {},
   "outputs": [],
   "source": [
    "from pandas import DatetimeTZDtype\n",
    "\n",
    "def make_naive_dt(df: pd.DataFrame) -> pd.DataFrame:\n",
    "    df = df.copy()\n",
    "    if \"datetime\" in df.columns:\n",
    "        df[\"datetime\"] = pd.to_datetime(df[\"datetime\"], errors=\"coerce\")\n",
    "        if isinstance(df[\"datetime\"].dtype, DatetimeTZDtype):\n",
    "            df[\"datetime\"] = df[\"datetime\"].dt.tz_localize(None)\n",
    "    return df"
   ]
  },
  {
   "cell_type": "code",
   "execution_count": 8,
   "metadata": {},
   "outputs": [
    {
     "name": "stderr",
     "output_type": "stream",
     "text": [
      "/var/folders/1t/15hmc_h12xnbygjnmf7kj43h0000gn/T/ipykernel_6900/2079064281.py:23: UserWarning: Could not infer format, so each element will be parsed individually, falling back to `dateutil`. To ensure parsing is consistent and as-expected, please specify a format.\n",
      "  dt = pd.to_datetime(day + \" \" + df[hour_col].astype(str), errors=\"coerce\")\n"
     ]
    },
    {
     "name": "stdout",
     "output_type": "stream",
     "text": [
      "Saved -> /Users/ibrahimyucel/Downloads/Gain Enerji Intern Analyst Case Study_2025/data/out/MASLAKTEPE_RES_birlesik_2024.csv (8784 rows)\n",
      "Saved -> /Users/ibrahimyucel/Downloads/Gain Enerji Intern Analyst Case Study_2025/data/out/EBER_RES_birlesik_2024.csv (8784 rows)\n",
      "Saved -> /Users/ibrahimyucel/Downloads/Gain Enerji Intern Analyst Case Study_2025/data/out/YANBOLU_HES_birlesik_2024.csv (8784 rows)\n",
      "Saved -> /Users/ibrahimyucel/Downloads/Gain Enerji Intern Analyst Case Study_2025/data/out/MELKOM_HES_birlesik_2024.csv (8775 rows)\n"
     ]
    }
   ],
   "source": [
    "from glob import glob\n",
    "\n",
    "BASE = \"/Users/ibrahimyucel/Downloads/Gain Enerji Intern Analyst Case Study_2025/data\"\n",
    "os.makedirs(f\"{BASE}/out\", exist_ok=True)\n",
    "\n",
    "def slugify(s):\n",
    "    s = str(s).strip().replace(\" \", \"_\")\n",
    "    return re.sub(r\"[^A-Za-z0-9_\\-]\", \"\", s)\n",
    "\n",
    "def build_datetime(df, date_col=\"date\", hour_col=\"hour\"):\n",
    "    df = df.copy()\n",
    "    # hour yoksa/date içinden türet\n",
    "    if hour_col not in df.columns or df[hour_col].isna().any():\n",
    "        hhmm = df[date_col].astype(str).str.split(\"T\").str[1].str[:5]\n",
    "        if hour_col not in df.columns:\n",
    "            df[hour_col] = hhmm\n",
    "        else:\n",
    "            mask = df[hour_col].isna() | (df[hour_col].astype(str).isin([\"\", \"None\", \"NaN\"]))\n",
    "            df.loc[mask, hour_col] = hhmm[mask]\n",
    "    day = df[date_col].astype(str).str.split(\"T\").str[0]\n",
    "    dt = pd.to_datetime(day + \" \" + df[hour_col].astype(str), errors=\"coerce\")\n",
    "    return df.assign(datetime=dt, Tarih=day, Saat=df[hour_col].astype(str))\n",
    "\n",
    "# PTF\n",
    "ptf = pd.read_csv(f\"{BASE}/ptf_2024.csv\")\n",
    "ptf = build_datetime(ptf)\n",
    "ptf = ptf.rename(columns={\"price\":\"PTF\"})[[\"datetime\",\"PTF\"]]\n",
    "ptf = make_naive_dt(ptf)\n",
    "\n",
    "# SMF\n",
    "smf = pd.read_csv(f\"{BASE}/smf_2024.csv\")\n",
    "smf = build_datetime(smf)\n",
    "smf = smf.rename(columns={\"systemMarginalPrice\":\"SMF\"})[[\"datetime\",\"SMF\"]]\n",
    "smf = make_naive_dt(smf)\n",
    "\n",
    "# Santral meta (ID’lerden dosya bulmak için)\n",
    "plants = [\n",
    "    {\"name\":\"MASLAKTEPE RES\", \"uevcbId\":3207214, \"powerPlantId\":2468},\n",
    "    {\"name\":\"EBER RES\",       \"uevcbId\":3217197, \"powerPlantId\":2316},\n",
    "    {\"name\":\"YANBOLU HES\",    \"uevcbId\":2813560, \"powerPlantId\":1884},\n",
    "    {\"name\":\"MELİKOM HES\",    \"uevcbId\":3196990, \"powerPlantId\":2142},\n",
    "]\n",
    "\n",
    "def first_or_none(pattern):\n",
    "    files = glob(pattern)\n",
    "    return files[0] if files else None\n",
    "\n",
    "for meta in plants:\n",
    "    name, uev, ppid = meta[\"name\"], meta[\"uevcbId\"], meta[\"powerPlantId\"]\n",
    "\n",
    "    kgup_path   = first_or_none(f\"{BASE}/kgup_2024_{uev}_*.csv\")\n",
    "    uretim_path = first_or_none(f\"{BASE}/uretim_2024_{ppid}_*.csv\")\n",
    "    if not kgup_path or not uretim_path:\n",
    "        print(f\"Skip (missing files): {name} | KGÜP={bool(kgup_path)} ÜRETİM={bool(uretim_path)}\")\n",
    "        continue\n",
    "\n",
    "    # KGÜP\n",
    "    kgup = pd.read_csv(kgup_path)\n",
    "    kgup = build_datetime(kgup)\n",
    "    kgup = kgup.rename(columns={\"KGUP\":\"KGUP\"})[[\"datetime\",\"Tarih\",\"Saat\",\"KGUP\"]]\n",
    "\n",
    "    # Üretim\n",
    "    uretim = pd.read_csv(uretim_path)\n",
    "    uretim = build_datetime(uretim)\n",
    "    uretim = uretim.rename(columns={\"URETIM\":\"URETIM\"})[[\"datetime\",\"URETIM\"]]\n",
    "\n",
    "    # KGÜP ⨝ Üretim (inner) + datetime’ları tz-naive yap\n",
    "    df = kgup.merge(uretim, on=\"datetime\", how=\"inner\")\n",
    "    df  = make_naive_dt(df)\n",
    "\n",
    "    # PTF/SMF ekle (left)\n",
    "    df = df.merge(ptf, on=\"datetime\", how=\"left\").merge(smf, on=\"datetime\", how=\"left\")\n",
    "\n",
    "    # Ay\n",
    "    df[\"Ay\"] = df[\"datetime\"].dt.month\n",
    "\n",
    "    # Poz/Neg dengesizlik fiyatları\n",
    "    df[\"Poz_DF\"] = (df[[\"PTF\",\"SMF\"]].min(axis=1) * 0.97).astype(float)\n",
    "    df[\"Neg_DF\"] = (df[[\"PTF\",\"SMF\"]].max(axis=1) * 1.03).astype(float)\n",
    "\n",
    "    # Dengesizlik ve gelirler\n",
    "    df[\"KGUP\"] = df[\"KGUP\"].astype(float)\n",
    "    df[\"URETIM\"] = df[\"URETIM\"].astype(float)\n",
    "    df[\"PTF\"] = df[\"PTF\"].astype(float)\n",
    "    df[\"SMF\"] = df[\"SMF\"].astype(float)\n",
    "\n",
    "    df[\"Dengesizlik\"] = (df[\"URETIM\"] - df[\"KGUP\"])\n",
    "    df[\"GOP_Geliri\"] = (df[\"KGUP\"] * df[\"PTF\"])\n",
    "    df[\"Dengesizlik_Tutarı\"] = df.apply(\n",
    "        lambda r: r[\"Dengesizlik\"] * (r[\"Poz_DF\"] if r[\"Dengesizlik\"] >= 0 else r[\"Neg_DF\"]),\n",
    "        axis=1\n",
    "    )\n",
    "    df[\"Net_Gelir\"] = (df[\"GOP_Geliri\"] + df[\"Dengesizlik_Tutarı\"])\n",
    "\n",
    "    # Dengesizlik Maliyeti (negatif olamaz)\n",
    "    df[\"Dengesizlik_Maliyeti\"] = ((df[\"URETIM\"] * df[\"PTF\"]) - df[\"Net_Gelir\"]).clip(lower=0)\n",
    "\n",
    "    # Birim DM (saatlik)\n",
    "    df[\"Birim_DM\"] = df.apply(lambda r: (r[\"Dengesizlik_Maliyeti\"] / r[\"URETIM\"]) if r[\"URETIM\"] not in (0, 0.0) else 0.0, axis=1)\n",
    "\n",
    "    # Çıktı sırası\n",
    "    out_cols = [\n",
    "        \"Tarih\",\"Ay\",\"Saat\",\n",
    "        \"PTF\",\"SMF\",\"Poz_DF\",\"Neg_DF\",\n",
    "        \"KGUP\",\"URETIM\",\"Dengesizlik\",\n",
    "        \"GOP_Geliri\",\"Dengesizlik_Tutarı\",\"Net_Gelir\",\n",
    "        \"Dengesizlik_Maliyeti\",\"Birim_DM\"\n",
    "    ]\n",
    "    df_out = df[out_cols].copy()\n",
    "\n",
    "    out_path = f\"{BASE}/out/{slugify(name)}_birlesik_2024.csv\"\n",
    "    df_out.to_csv(out_path, index=False)\n",
    "    print(f\"Saved -> {out_path} ({len(df_out)} rows)\")"
   ]
  },
  {
   "cell_type": "code",
   "execution_count": 9,
   "metadata": {},
   "outputs": [
    {
     "name": "stdout",
     "output_type": "stream",
     "text": [
      "KGÜP'te eksik saatler: 0\n",
      "Üretim'de eksik saatler: 9\n",
      "Üretim'de eksik saatler: ['2024-02-24 03:00', '2024-03-13 05:00', '2024-08-07 21:00', '2024-08-07 22:00', '2024-08-07 23:00']\n"
     ]
    }
   ],
   "source": [
    "# Kayıp satırları analiz et\n",
    "kgup_dates = set(kgup['datetime'].dt.strftime('%Y-%m-%d %H:%M'))\n",
    "uretim_dates = set(uretim['datetime'].dt.strftime('%Y-%m-%d %H:%M'))\n",
    "\n",
    "missing_in_kgup = uretim_dates - kgup_dates\n",
    "missing_in_uretim = kgup_dates - uretim_dates\n",
    "\n",
    "print(f\"KGÜP'te eksik saatler: {len(missing_in_kgup)}\")\n",
    "print(f\"Üretim'de eksik saatler: {len(missing_in_uretim)}\")\n",
    "if missing_in_kgup:\n",
    "    print(\"KGÜP'te eksik saatler:\", sorted(list(missing_in_kgup))[:5])\n",
    "if missing_in_uretim:\n",
    "    print(\"Üretim'de eksik saatler:\", sorted(list(missing_in_uretim))[:5])"
   ]
  }
 ],
 "metadata": {
  "kernelspec": {
   "display_name": "Python 3",
   "language": "python",
   "name": "python3"
  },
  "language_info": {
   "codemirror_mode": {
    "name": "ipython",
    "version": 3
   },
   "file_extension": ".py",
   "mimetype": "text/x-python",
   "name": "python",
   "nbconvert_exporter": "python",
   "pygments_lexer": "ipython3",
   "version": "3.13.5"
  }
 },
 "nbformat": 4,
 "nbformat_minor": 2
}
